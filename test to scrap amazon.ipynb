{
 "cells": [
  {
   "cell_type": "code",
   "execution_count": 3,
   "id": "3659a74b",
   "metadata": {},
   "outputs": [],
   "source": [
    "# import libraries\n",
    "from bs4 import BeautifulSoup\n",
    "import requests\n",
    "import time"
   ]
  },
  {
   "cell_type": "code",
   "execution_count": null,
   "id": "a489b3aa",
   "metadata": {},
   "outputs": [],
   "source": [
    "# gets: url=the url of the prodoct, headers=the thing needed to get amazon html\n",
    "# return: nothing\n",
    "# the function requests the prodocts html page from amazon, \n",
    "# and scraps all the info we want, then write said info in a csv row\n",
    "\n",
    "def single_prodocts_handle(url, headers):\n",
    "    page = requests.get(URL, headers=headers)\n",
    "    soup1 = BeautifulSoup(page.content, 'html.parser')\n",
    "    soup2 = BeautifulSoup(soup1.prettify(), 'html.parser')\n",
    "    \n",
    "    # scrap info\n",
    "    title = soup2.find(id='productTitle')\n",
    "    title = title.get_text().strip()\n",
    "    price = soup2.find_all(\"span\", {\"class\": \"a-offscreen\"})\n",
    "    "
   ]
  },
  {
   "cell_type": "code",
   "execution_count": 68,
   "id": "9eed72b4",
   "metadata": {},
   "outputs": [],
   "source": [
    "def search_page_handler(url, headers):\n",
    "    page = requests.get(URL, headers=headers)\n",
    "    soup1 = BeautifulSoup(page.content, 'html.parser')\n",
    "    soup2 = BeautifulSoup(soup1.prettify(), 'html.parser')\n",
    "    \n",
    "    # get prodoct url\n",
    "    urls = []\n",
    "    for h in soup2.find_all(\"a\",{\"class\":\"a-link-normal s-underline-text s-underline-link-text s-link-style a-text-normal\"}):\n",
    "        #a = h.find('a')\n",
    "        urls.append('https://www.amazon.com' + h.attrs['href'])\n",
    "        print('---')\n",
    "        print('https://www.amazon.com' + h.attrs['href'])\n",
    "    print(len(urls))\n",
    "    mylist = list(dict.fromkeys(urls))\n",
    "    print(len(mylist))\n",
    "    #print(urls)\n",
    "    \n",
    "    #prodoct_url = soup2.find_all(\"a\",{\"class\":\"a-link-normal s-underline-text s-underline-link-text s-link-style a-text-normal\"})#.get(\"href\")\n",
    "    #prodoct_url = 'https://www.amazon.com' + prodoct_url\n",
    "    #print(prodoct_url)\n",
    "    print('-----------------')\n",
    "    \n",
    "    # get next page\n",
    "    next_url = soup2.find(\"a\",{\"class\":\"s-pagination-item s-pagination-button\"}).get(\"href\")\n",
    "    next_url = 'https://www.amazon.com' + next_url\n",
    "    #print(next_url)\n",
    "    "
   ]
  },
  {
   "cell_type": "raw",
   "id": "6d4d0639",
   "metadata": {},
   "source": [
    "GET /hc/en-us/articles/360031248971-Viewing-your-website-s-headers HTTP/2\n",
    "Host: help.dreamhost.com\n",
    "User-Agent: Mozilla/5.0 (Windows NT 10.0; Win64; x64; rv:108.0) Gecko/20100101 Firefox/108.0\n",
    "Accept: text/html,application/xhtml+xml,application/xml;q=0.9,image/avif,image/webp,*/*;q=0.8\n",
    "Accept-Language: en-US,en;q=0.5\n",
    "Accept-Encoding: gzip, deflate, br\n",
    "Referer: https://www.google.com/\n",
    "Connection: keep-alive\n",
    "Cookie: __cfruid=76fb5f98d4c056fd1ff5bc75fa6739ea2fe9c1c7-1671902391; __cf_bm=WCTA3OCrqHTq53UuJJaBtpgHeOY718oGq4tESlxcORc-1671902393-0-AduBOiAB3+Zo6hOv7Q3xZDJJN+fpu0ssKFS/tK1xVnAhCJzO8xImPTBmnZGTwkDyHqh9eePMKZWmutEVjYqo+dlsCdKpkhRBcQTnW+/n4AVIriGgvz5bEpTFtNm1n3S7QckS1hNCn7EXa2nlN3uwf9o=\n",
    "Upgrade-Insecure-Requests: 1\n",
    "Sec-Fetch-Dest: document\n",
    "Sec-Fetch-Mode: navigate\n",
    "Sec-Fetch-Site: cross-site\n",
    "Sec-Fetch-User: ?1\n",
    "TE: trailers"
   ]
  },
  {
   "cell_type": "code",
   "execution_count": null,
   "id": "0f4e9500",
   "metadata": {},
   "outputs": [],
   "source": [
    "# old_headers = {\"User-Agent\": \"Mozilla/5.0 (Windows NT 10.0; Win64; x64) AppleWebKit/537.36 (KHTML, like Gecko) Chrome/78.0.3904.108 Safari/537.36\", \n",
    "\"Accept-Encoding\":\"gzip, deflate\", \n",
    "    \"Accept\":\"text/html,application/xhtml+xml,application/xml;q=0.9,*/*;q=0.8\", \n",
    "        \"DNT\":\"1\",\n",
    "            \"Connection\":\"close\", \n",
    "                \"Upgrade-Insecure-Requests\":\"1\"}\n"
   ]
  },
  {
   "cell_type": "code",
   "execution_count": 69,
   "id": "8788b910",
   "metadata": {},
   "outputs": [
    {
     "name": "stdout",
     "output_type": "stream",
     "text": [
      "---\n",
      "https://www.amazon.com/gp/slredirect/picassoRedirect.html/ref=pa_sp_atf_electronics_sr_pg1_1?ie=UTF8&adId=A0115704B74OOIELE55F&qualifier=1671901682&id=6294437504441878&widgetName=sp_atf&url=%2FHP-Pavilion-Dual-Core-Processor-Graphics%2Fdp%2FB0B98R6ZH4%2Fref%3Dsr_1_1_sspa%3Fcrid%3D38LXN43XVKEAN%26keywords%3Dlaptop%26qid%3D1671901682%26refinements%3Dp_89%253AASUS%257CApple%257CDell%257CHP%257CLenovo%26rnid%3D2528832011%26s%3Delectronics%26sprefix%3Dlapto%252Caps%252C212%26sr%3D1-1-spons%26psc%3D1%26smid%3DA2HR3WADFB8IU9\n",
      "---\n",
      "https://www.amazon.com/gp/slredirect/picassoRedirect.html/ref=pa_sp_atf_electronics_sr_pg1_1?ie=UTF8&adId=A047074429IROFYDDBSD5&qualifier=1671901682&id=6294437504441878&widgetName=sp_atf&url=%2FHP-i7-1160G7-Bluetooth-Windows-Accessories%2Fdp%2FB09FF2JPMY%2Fref%3Dsr_1_2_sspa%3Fcrid%3D38LXN43XVKEAN%26keywords%3Dlaptop%26qid%3D1671901682%26refinements%3Dp_89%253AASUS%257CApple%257CDell%257CHP%257CLenovo%26rnid%3D2528832011%26s%3Delectronics%26sprefix%3Dlapto%252Caps%252C212%26sr%3D1-2-spons%26psc%3D1\n",
      "---\n",
      "https://www.amazon.com/Lenovo-Ideapad-Touchscreen-i3-1005G1-Processor/dp/B08B6F1NNR/ref=sr_1_3?crid=38LXN43XVKEAN&keywords=laptop&qid=1671901682&refinements=p_89%3AASUS%7CApple%7CDell%7CHP%7CLenovo&rnid=2528832011&s=electronics&sprefix=lapto%2Caps%2C212&sr=1-3\n",
      "---\n",
      "https://www.amazon.com/Lenovo-IdeaPad-Display-Celeron-Graphics/dp/B0BLW25MB7/ref=sr_1_4?crid=38LXN43XVKEAN&keywords=laptop&qid=1671901682&refinements=p_89%3AASUS%7CApple%7CDell%7CHP%7CLenovo&rnid=2528832011&s=electronics&sprefix=lapto%2Caps%2C212&sr=1-4\n",
      "---\n",
      "https://www.amazon.com/HP-BrightView-Processor-Graphics-Speakers/dp/B0BKBHXC5S/ref=sr_1_5?crid=38LXN43XVKEAN&keywords=laptop&qid=1671901682&refinements=p_89%3AASUS%7CApple%7CDell%7CHP%7CLenovo&rnid=2528832011&s=electronics&sprefix=lapto%2Caps%2C212&sr=1-5\n",
      "---\n",
      "https://www.amazon.com/HP-Chromebook-Custom-Tuned-Lightweight-11a-na0027nr/dp/B09QY33Z2S/ref=sr_1_6?crid=38LXN43XVKEAN&keywords=laptop&qid=1671901682&refinements=p_89%3AASUS%7CApple%7CDell%7CHP%7CLenovo&rnid=2528832011&s=electronics&sprefix=lapto%2Caps%2C212&sr=1-6\n",
      "---\n",
      "https://www.amazon.com/gp/slredirect/picassoRedirect.html/ref=pa_sp_mtf_electronics_sr_pg1_1?ie=UTF8&adId=A0009403IYTFGFFKMFKT&qualifier=1671901682&id=6294437504441878&widgetName=sp_mtf&url=%2FHP-i3-1115G4-i5-1030G7-Bluetooth-Accessories%2Fdp%2FB09MTL5YH4%2Fref%3Dsr_1_7_sspa%3Fcrid%3D38LXN43XVKEAN%26keywords%3Dlaptop%26qid%3D1671901682%26refinements%3Dp_89%253AASUS%257CApple%257CDell%257CHP%257CLenovo%26rnid%3D2528832011%26s%3Delectronics%26sprefix%3Dlapto%252Caps%252C212%26sr%3D1-7-spons%26psc%3D1%26smid%3DAM0VWZ1WMK39K\n",
      "---\n",
      "https://www.amazon.com/Lenovo-Computer_-Quad-Core-802-11AC-Bluetooth/dp/B08Y8YW3QF/ref=sr_1_8?crid=38LXN43XVKEAN&keywords=laptop&qid=1671901682&refinements=p_89%3AASUS%7CApple%7CDell%7CHP%7CLenovo&rnid=2528832011&s=electronics&sprefix=lapto%2Caps%2C212&sr=1-8\n",
      "---\n",
      "https://www.amazon.com/ASUS-IPS-Type-i5-10300H-Processor-FX506LH-AS51/dp/B09SVQ25XH/ref=sr_1_9?crid=38LXN43XVKEAN&keywords=laptop&qid=1671901682&refinements=p_89%3AASUS%7CApple%7CDell%7CHP%7CLenovo&rnid=2528832011&s=electronics&sprefix=lapto%2Caps%2C212&sr=1-9\n",
      "---\n",
      "https://www.amazon.com/HP-Pentium-Quad-Core-Bluetooth-Windows/dp/B08CQCSM7F/ref=sr_1_10?crid=38LXN43XVKEAN&keywords=laptop&qid=1671901682&refinements=p_89%3AASUS%7CApple%7CDell%7CHP%7CLenovo&rnid=2528832011&s=electronics&sprefix=lapto%2Caps%2C212&sr=1-10\n",
      "---\n",
      "https://www.amazon.com/HP-14-Chromebook-Processor-Super-Fast/dp/B0BLXQZDNH/ref=sr_1_11?crid=38LXN43XVKEAN&keywords=laptop&qid=1671901682&refinements=p_89%3AASUS%7CApple%7CDell%7CHP%7CLenovo&rnid=2528832011&s=electronics&sprefix=lapto%2Caps%2C212&sr=1-11\n",
      "---\n",
      "https://www.amazon.com/gp/slredirect/picassoRedirect.html/ref=pa_sp_mtf_electronics_sr_pg1_1?ie=UTF8&adId=A008986229WNHOFM0T4VS&qualifier=1671901682&id=6294437504441878&widgetName=sp_mtf&url=%2FHP-Touchscreen-i5-1135G7-i7-1060G7-Accessories%2Fdp%2FB0BKQBCXVV%2Fref%3Dsr_1_12_sspa%3Fcrid%3D38LXN43XVKEAN%26keywords%3Dlaptop%26qid%3D1671901682%26refinements%3Dp_89%253AASUS%257CApple%257CDell%257CHP%257CLenovo%26rnid%3D2528832011%26s%3Delectronics%26sprefix%3Dlapto%252Caps%252C212%26sr%3D1-12-spons%26psc%3D1%26smid%3DAM0VWZ1WMK39K\n",
      "---\n",
      "https://www.amazon.com/HP-Generation-i5-1135G7-Graphics-15-dy2024nr/dp/B09FXFDGN3/ref=sr_1_13?crid=38LXN43XVKEAN&keywords=laptop&qid=1671901682&refinements=p_89%3AASUS%7CApple%7CDell%7CHP%7CLenovo&rnid=2528832011&s=electronics&sprefix=lapto%2Caps%2C212&sr=1-13\n",
      "---\n",
      "https://www.amazon.com/Lenovo-Ideapad-Processor-Graphics-Speakers/dp/B0BKFZQ2LC/ref=sr_1_14?crid=38LXN43XVKEAN&keywords=laptop&qid=1671901682&refinements=p_89%3AASUS%7CApple%7CDell%7CHP%7CLenovo&rnid=2528832011&s=electronics&sprefix=lapto%2Caps%2C212&sr=1-14\n",
      "---\n",
      "https://www.amazon.com/HP-14-Laptop-Dual-Core-Processor/dp/B09VRX9YVW/ref=sr_1_15?crid=38LXN43XVKEAN&keywords=laptop&qid=1671901682&refinements=p_89%3AASUS%7CApple%7CDell%7CHP%7CLenovo&rnid=2528832011&s=electronics&sprefix=lapto%2Caps%2C212&sr=1-15\n",
      "---\n",
      "https://www.amazon.com/Dell-Inspiron-Touchscreen-i5-1135G7-Windows/dp/B0B6WRGDPL/ref=sr_1_16?crid=38LXN43XVKEAN&keywords=laptop&qid=1671901682&refinements=p_89%3AASUS%7CApple%7CDell%7CHP%7CLenovo&rnid=2528832011&s=electronics&sprefix=lapto%2Caps%2C212&sr=1-16\n",
      "---\n",
      "https://www.amazon.com/gp/slredirect/picassoRedirect.html/ref=pa_sp_mtf_electronics_sr_pg1_1?ie=UTF8&adId=A09689602YDZ98Q716AJC&qualifier=1671901682&id=6294437504441878&widgetName=sp_mtf&url=%2FHP-Pavilion-Quad-core-Processor-Bluetooth%2Fdp%2FB0BNCKGRDQ%2Fref%3Dsr_1_17_sspa%3Fcrid%3D38LXN43XVKEAN%26keywords%3Dlaptop%26qid%3D1671901682%26refinements%3Dp_89%253AASUS%257CApple%257CDell%257CHP%257CLenovo%26rnid%3D2528832011%26s%3Delectronics%26sprefix%3Dlapto%252Caps%252C212%26sr%3D1-17-spons%26psc%3D1%26smid%3DAWC4R9IGPA4LI\n",
      "---\n",
      "https://www.amazon.com/Dell-7490-Touchscreen-11-Professional/dp/B0B1LBV7JY/ref=sr_1_18?crid=38LXN43XVKEAN&keywords=laptop&qid=1671901682&refinements=p_89%3AASUS%7CApple%7CDell%7CHP%7CLenovo&rnid=2528832011&s=electronics&sprefix=lapto%2Caps%2C212&sr=1-18\n",
      "---\n",
      "https://www.amazon.com/HP-14-Laptop-Dual-Core-Processor/dp/B09VZR2BGN/ref=sr_1_19?crid=38LXN43XVKEAN&keywords=laptop&qid=1671901682&refinements=p_89%3AASUS%7CApple%7CDell%7CHP%7CLenovo&rnid=2528832011&s=electronics&sprefix=lapto%2Caps%2C212&sr=1-19\n",
      "---\n",
      "https://www.amazon.com/HP-Intel-i3-1005G1-3-4GHz-Laptop/dp/B089T6C53P/ref=sr_1_20?crid=38LXN43XVKEAN&keywords=laptop&qid=1671901682&refinements=p_89%3AASUS%7CApple%7CDell%7CHP%7CLenovo&rnid=2528832011&s=electronics&sprefix=lapto%2Caps%2C212&sr=1-20\n",
      "---\n",
      "https://www.amazon.com/HP-Business-Display-i5-1135G7-Bluetooth/dp/B09HYXX62L/ref=sr_1_21?crid=38LXN43XVKEAN&keywords=laptop&qid=1671901682&refinements=p_89%3AASUS%7CApple%7CDell%7CHP%7CLenovo&rnid=2528832011&s=electronics&sprefix=lapto%2Caps%2C212&sr=1-21\n",
      "---\n",
      "https://www.amazon.com/gp/slredirect/picassoRedirect.html/ref=pa_sp_btf_electronics_sr_pg1_1?ie=UTF8&adId=A08549342R89ALIDA3VC9&qualifier=1671901682&id=6294437504441878&widgetName=sp_btf&url=%2FHP-Laptops-Computer-Ethernet-Bluetooth%2Fdp%2FB0BKZ75FP7%2Fref%3Dsr_1_22_sspa%3Fcrid%3D38LXN43XVKEAN%26keywords%3Dlaptop%26qid%3D1671901682%26refinements%3Dp_89%253AASUS%257CApple%257CDell%257CHP%257CLenovo%26rnid%3D2528832011%26s%3Delectronics%26sprefix%3Dlapto%252Caps%252C212%26sr%3D1-22-spons%26psc%3D1%26smid%3DA1EC41WMQMGYRA\n",
      "---\n",
      "https://www.amazon.com/Lenovo-Legion-GeForce-Graphics-Windows/dp/B09S6LLWLF/ref=sr_1_23?crid=38LXN43XVKEAN&keywords=laptop&qid=1671901682&refinements=p_89%3AASUS%7CApple%7CDell%7CHP%7CLenovo&rnid=2528832011&s=electronics&sprefix=lapto%2Caps%2C212&sr=1-23\n",
      "---\n",
      "https://www.amazon.com/2022-Apple-MacBook-Laptop-chip/dp/B0B3C5HNXJ/ref=sr_1_24?crid=38LXN43XVKEAN&keywords=laptop&qid=1671901682&refinements=p_89%3AASUS%7CApple%7CDell%7CHP%7CLenovo&rnid=2528832011&s=electronics&sprefix=lapto%2Caps%2C212&sr=1-24\n",
      "---\n",
      "https://www.amazon.com/Lenovo-Upgraded-Ideapad-Computer-Bluetooth/dp/B0BM47K87R/ref=sr_1_25?crid=38LXN43XVKEAN&keywords=laptop&qid=1671901682&refinements=p_89%3AASUS%7CApple%7CDell%7CHP%7CLenovo&rnid=2528832011&s=electronics&sprefix=lapto%2Caps%2C212&sr=1-25\n",
      "---\n",
      "https://www.amazon.com/Lenovo-IdeaPad-Essential-Computer-Graphics/dp/B09RND1LP2/ref=sr_1_26?crid=38LXN43XVKEAN&keywords=laptop&qid=1671901682&refinements=p_89%3AASUS%7CApple%7CDell%7CHP%7CLenovo&rnid=2528832011&s=electronics&sprefix=lapto%2Caps%2C212&sr=1-26\n",
      "---\n",
      "https://www.amazon.com/HP-Portable-Micro-Edge-Anti-Glare-14-fq1025nr/dp/B09G8SK2KK/ref=sr_1_27?crid=38LXN43XVKEAN&keywords=laptop&qid=1671901682&refinements=p_89%3AASUS%7CApple%7CDell%7CHP%7CLenovo&rnid=2528832011&s=electronics&sprefix=lapto%2Caps%2C212&sr=1-27\n",
      "---\n",
      "https://www.amazon.com/HP-17t-cr00-Business-1920x1080-Bluetooth/dp/B0BGKBNXK5/ref=sr_1_28?crid=38LXN43XVKEAN&keywords=laptop&qid=1671901682&refinements=p_89%3AASUS%7CApple%7CDell%7CHP%7CLenovo&rnid=2528832011&s=electronics&sprefix=lapto%2Caps%2C212&sr=1-28\n",
      "---\n",
      "https://www.amazon.com/ASUS-Processor-NumberPad-Microsoft-L210MA-DB01/dp/B081V6W99V/ref=sr_1_29?crid=38LXN43XVKEAN&keywords=laptop&qid=1671901682&refinements=p_89%3AASUS%7CApple%7CDell%7CHP%7CLenovo&rnid=2528832011&s=electronics&sprefix=lapto%2Caps%2C212&sr=1-29\n",
      "---\n",
      "https://www.amazon.com/HP-Chromebook-14-Graphics-14a-na0226nr/dp/B0B5YB7T57/ref=sr_1_30?crid=38LXN43XVKEAN&keywords=laptop&qid=1671901682&refinements=p_89%3AASUS%7CApple%7CDell%7CHP%7CLenovo&rnid=2528832011&s=electronics&sprefix=lapto%2Caps%2C212&sr=1-30\n",
      "---\n",
      "https://www.amazon.com/Lenovo-Ideapad-Touchscreen-i3-1005G1-Processor/dp/B08B6F1NNR/ref=sxbs_aspa_sqa?content-id=amzn1.sym.6546f6bb-5d81-44ef-989d-0d71e13d6e21%3Aamzn1.sym.6546f6bb-5d81-44ef-989d-0d71e13d6e21&crid=38LXN43XVKEAN&cv_ct_cx=laptop&keywords=laptop&pd_rd_i=B08B6F1NNR&pd_rd_r=164d324c-b245-4409-a1fc-b277c655fa1e&pd_rd_w=lK4i5&pd_rd_wg=9EOJG&pf_rd_p=6546f6bb-5d81-44ef-989d-0d71e13d6e21&pf_rd_r=G9BC6AVBBKWMS9329193&qid=1671901682&refinements=p_89%3AASUS%7CApple%7CDell%7CHP%7CLenovo&rnid=2528832011&s=electronics&sprefix=lapto%2Caps%2C212&sr=1-1-227b4573-fb34-4014-8c86-ce350a5ad195\n",
      "---\n",
      "https://www.amazon.com/Acer-A515-56-32DK-Display-i3-1115G4-Processor/dp/B09R5VYRVN/ref=sxbs_aspa_sqa?content-id=amzn1.sym.6546f6bb-5d81-44ef-989d-0d71e13d6e21%3Aamzn1.sym.6546f6bb-5d81-44ef-989d-0d71e13d6e21&crid=38LXN43XVKEAN&cv_ct_cx=laptop&keywords=laptop&pd_rd_i=B09R5VYRVN&pd_rd_r=164d324c-b245-4409-a1fc-b277c655fa1e&pd_rd_w=lK4i5&pd_rd_wg=9EOJG&pf_rd_p=6546f6bb-5d81-44ef-989d-0d71e13d6e21&pf_rd_r=G9BC6AVBBKWMS9329193&qid=1671901682&refinements=p_89%3AASUS%7CApple%7CDell%7CHP%7CLenovo&rnid=2528832011&s=electronics&sprefix=lapto%2Caps%2C212&sr=1-3-227b4573-fb34-4014-8c86-ce350a5ad195\n",
      "---\n",
      "https://www.amazon.com/Acer-15inch-Chromebook-Dual-Core-Super-Fast/dp/B0B3L3YB4N/ref=sxbs_aspa_sqa?content-id=amzn1.sym.6546f6bb-5d81-44ef-989d-0d71e13d6e21%3Aamzn1.sym.6546f6bb-5d81-44ef-989d-0d71e13d6e21&crid=38LXN43XVKEAN&cv_ct_cx=laptop&keywords=laptop&pd_rd_i=B0B3L3YB4N&pd_rd_r=164d324c-b245-4409-a1fc-b277c655fa1e&pd_rd_w=lK4i5&pd_rd_wg=9EOJG&pf_rd_p=6546f6bb-5d81-44ef-989d-0d71e13d6e21&pf_rd_r=G9BC6AVBBKWMS9329193&qid=1671901682&refinements=p_89%3AASUS%7CApple%7CDell%7CHP%7CLenovo&rnid=2528832011&s=electronics&sprefix=lapto%2Caps%2C212&sr=1-5-227b4573-fb34-4014-8c86-ce350a5ad195\n",
      "---\n",
      "https://www.amazon.com/HP-Chromebook-Custom-Tuned-Lightweight-11a-na0027nr/dp/B09QY33Z2S/ref=sxbs_aspa_sqa?content-id=amzn1.sym.6546f6bb-5d81-44ef-989d-0d71e13d6e21%3Aamzn1.sym.6546f6bb-5d81-44ef-989d-0d71e13d6e21&crid=38LXN43XVKEAN&cv_ct_cx=laptop&keywords=laptop&pd_rd_i=B09QY33Z2S&pd_rd_r=164d324c-b245-4409-a1fc-b277c655fa1e&pd_rd_w=lK4i5&pd_rd_wg=9EOJG&pf_rd_p=6546f6bb-5d81-44ef-989d-0d71e13d6e21&pf_rd_r=G9BC6AVBBKWMS9329193&qid=1671901682&refinements=p_89%3AASUS%7CApple%7CDell%7CHP%7CLenovo&rnid=2528832011&s=electronics&sprefix=lapto%2Caps%2C212&sr=1-7-227b4573-fb34-4014-8c86-ce350a5ad195\n",
      "---\n",
      "https://www.amazon.com/Dell-3189-Convertible-Chromebook-Touchscreen/dp/B07NFD1HDJ/ref=sxbs_aspa_sqa?content-id=amzn1.sym.6546f6bb-5d81-44ef-989d-0d71e13d6e21%3Aamzn1.sym.6546f6bb-5d81-44ef-989d-0d71e13d6e21&crid=38LXN43XVKEAN&cv_ct_cx=laptop&keywords=laptop&pd_rd_i=B07NFD1HDJ&pd_rd_r=164d324c-b245-4409-a1fc-b277c655fa1e&pd_rd_w=lK4i5&pd_rd_wg=9EOJG&pf_rd_p=6546f6bb-5d81-44ef-989d-0d71e13d6e21&pf_rd_r=G9BC6AVBBKWMS9329193&qid=1671901682&refinements=p_89%3AASUS%7CApple%7CDell%7CHP%7CLenovo&rnid=2528832011&s=electronics&sprefix=lapto%2Caps%2C212&sr=1-2-227b4573-fb34-4014-8c86-ce350a5ad195\n",
      "---\n",
      "https://www.amazon.com/Lenovo-2-1-Chromebook-Computer/dp/B09RNCN3YV/ref=sxbs_aspa_sqa?content-id=amzn1.sym.6546f6bb-5d81-44ef-989d-0d71e13d6e21%3Aamzn1.sym.6546f6bb-5d81-44ef-989d-0d71e13d6e21&crid=38LXN43XVKEAN&cv_ct_cx=laptop&keywords=laptop&pd_rd_i=B09RNCN3YV&pd_rd_r=164d324c-b245-4409-a1fc-b277c655fa1e&pd_rd_w=lK4i5&pd_rd_wg=9EOJG&pf_rd_p=6546f6bb-5d81-44ef-989d-0d71e13d6e21&pf_rd_r=G9BC6AVBBKWMS9329193&qid=1671901682&refinements=p_89%3AASUS%7CApple%7CDell%7CHP%7CLenovo&rnid=2528832011&s=electronics&sprefix=lapto%2Caps%2C212&sr=1-4-227b4573-fb34-4014-8c86-ce350a5ad195\n",
      "---\n",
      "https://www.amazon.com/Lenovo-Chromebook-Processor-Graphics-82BA0003US/dp/B087YW8FQB/ref=sxbs_aspa_sqa?content-id=amzn1.sym.6546f6bb-5d81-44ef-989d-0d71e13d6e21%3Aamzn1.sym.6546f6bb-5d81-44ef-989d-0d71e13d6e21&crid=38LXN43XVKEAN&cv_ct_cx=laptop&keywords=laptop&pd_rd_i=B087YW8FQB&pd_rd_r=164d324c-b245-4409-a1fc-b277c655fa1e&pd_rd_w=lK4i5&pd_rd_wg=9EOJG&pf_rd_p=6546f6bb-5d81-44ef-989d-0d71e13d6e21&pf_rd_r=G9BC6AVBBKWMS9329193&qid=1671901682&refinements=p_89%3AASUS%7CApple%7CDell%7CHP%7CLenovo&rnid=2528832011&s=electronics&sprefix=lapto%2Caps%2C212&sr=1-6-227b4573-fb34-4014-8c86-ce350a5ad195\n",
      "---\n",
      "https://www.amazon.com/HP-Chromebook-Touchscreen-Entertaining-Bluetooth/dp/B08NHVXHJW/ref=sxbs_aspa_sqa?content-id=amzn1.sym.6546f6bb-5d81-44ef-989d-0d71e13d6e21%3Aamzn1.sym.6546f6bb-5d81-44ef-989d-0d71e13d6e21&crid=38LXN43XVKEAN&cv_ct_cx=laptop&keywords=laptop&pd_rd_i=B08NHVXHJW&pd_rd_r=164d324c-b245-4409-a1fc-b277c655fa1e&pd_rd_w=lK4i5&pd_rd_wg=9EOJG&pf_rd_p=6546f6bb-5d81-44ef-989d-0d71e13d6e21&pf_rd_r=G9BC6AVBBKWMS9329193&qid=1671901682&refinements=p_89%3AASUS%7CApple%7CDell%7CHP%7CLenovo&rnid=2528832011&s=electronics&sprefix=lapto%2Caps%2C212&sr=1-8-227b4573-fb34-4014-8c86-ce350a5ad195\n",
      "38\n",
      "38\n",
      "-----------------\n"
     ]
    }
   ],
   "source": [
    "# my own: Mozilla/5.0 (Windows NT 10.0; Win64; x64; rv:108.0) Gecko/20100101 Firefox/108.0\n",
    "# \n",
    "# old_headers = {\"User-Agent\": \"Mozilla/5.0 (Windows NT 10.0; Win64; x64) AppleWebKit/537.36 (KHTML, like Gecko) Chrome/78.0.3904.108 Safari/537.36\", \"Accept-Encoding\":\"gzip, deflate\", \"Accept\":\"text/html,application/xhtml+xml,application/xml;q=0.9,*/*;q=0.8\", \"DNT\":\"1\",\"Connection\":\"close\", \"Upgrade-Insecure-Requests\":\"1\"}\n",
    "headers = {\"User-Agent\": \"Mozilla/5.0 (Windows NT 10.0; Win64; x64; rv:108.0) Gecko/20100101 Firefox/108.0\", \"Accept-Encoding\":\"gzip, deflate\", \"Accept\":\"text/html,application/xhtml+xml,application/xml;q=0.9,*/*;q=0.8\", \"DNT\":\"1\",\"Connection\":\"close\", \"Upgrade-Insecure-Requests\":\"1\"}\n",
    "URL = 'https://www.amazon.com/s?k=laptop&i=electronics&bbn=172282&rh=n%3A172282%2Cp_89%3AASUS%7CApple%7CDell%7CHP%7CLenovo&dc&ds=v1%3AMuYHBdka21U3lb4fMeyq9UnE%2B8bo6%2FMrVi7sdrAROoQ&crid=38LXN43XVKEAN&qid=1671894067&rnid=2528832011&sprefix=lapto%2Caps%2C212&ref=sr_nr_p_89_6'\n",
    "search_page_handler(URL, headers)"
   ]
  },
  {
   "cell_type": "code",
   "execution_count": null,
   "id": "1012a5d2",
   "metadata": {},
   "outputs": [],
   "source": [
    "#<a class=\"a-link-normal s-underline-text s-underline-link-text s-link-style a-text-normal\" \n",
    "#href=\"/Lenovo-Ideapad-Touchscreen-i3-1005G1-Processor/dp/B08B6F1NNR/ref=sr_1_3?crid=38LXN43XVKEAN&amp;keywords=laptop&amp;qid=1671894071&amp;refinements=p_89%3AASUS%7CApple%7CDell%7CHP%7CLenovo&amp;rnid=2528832011&amp;s=electronics&amp;sprefix=lapto%2Caps%2C212&amp;sr=1-3\">\n",
    "#<span class=\"a-size-medium a-color-base a-text-normal\">Lenovo 2022 Newest Ideapad 3 Laptop, 15.6\" HD Touchscreen, 11th Gen Intel Core i3-1115G4 Processor, 8GB DDR4 RAM, 256GB PCIe NVMe SSD, HDMI, Webcam, Wi-Fi 5, Bluetooth, Windows 11 Home, Almond\n",
    "#</span> </a>"
   ]
  },
  {
   "cell_type": "code",
   "execution_count": null,
   "id": "07f32b5d",
   "metadata": {},
   "outputs": [],
   "source": [
    "# <a href=\"/s?k=laptop&amp;i=electronics&amp;bbn=172282&amp;rh=n%3A172282%2Cp_89%3AASUS%7CApple%7CDell%7CHP%7CLenovo&amp;dc&amp;page=2&amp;crid=38LXN43XVKEAN&amp;qid=1671894295&amp;rnid=2528832011&amp;sprefix=lapto%2Caps%2C212&amp;ref=sr_pg_2\" \n",
    "# aria-label=\"Go to page 2\" class=\"s-pagination-item s-pagination-button\">\n",
    "# 2</a>"
   ]
  },
  {
   "cell_type": "code",
   "execution_count": 15,
   "id": "fbc9e03e",
   "metadata": {},
   "outputs": [],
   "source": [
    "URL = 'https://www.amazon.com/Apple-MacBook-16-Inch-Storage-2-6GHz/dp/B08CZT64VP/ref=sr_1_1?crid=38LXN43XVKEAN&keywords=laptop&qid=1671812796&refinements=p_89%3AApple&rnid=2528832011&s=electronics&sprefix=lapto%2Caps%2C212&sr=1-1'\n",
    "\n",
    "headers = {\"User-Agent\": \"Mozilla/5.0 (Windows NT 10.0; Win64; x64) AppleWebKit/537.36 (KHTML, like Gecko) Chrome/78.0.3904.108 Safari/537.36\", \"Accept-Encoding\":\"gzip, deflate\", \"Accept\":\"text/html,application/xhtml+xml,application/xml;q=0.9,*/*;q=0.8\", \"DNT\":\"1\",\"Connection\":\"close\", \"Upgrade-Insecure-Requests\":\"1\"}\n",
    "\n",
    "page = requests.get(URL, headers=headers)\n",
    "soup1 = BeautifulSoup(page.content, 'html.parser')\n",
    "soup2 = BeautifulSoup(soup1.prettify(), 'html.parser')\n",
    "#print(soup2)"
   ]
  },
  {
   "cell_type": "code",
   "execution_count": 14,
   "id": "35e4479a",
   "metadata": {},
   "outputs": [
    {
     "name": "stdout",
     "output_type": "stream",
     "text": [
      "[<span class=\"a-offscreen\">\n",
      "                  $2,399.00\n",
      "                 </span>, <span class=\"a-offscreen\">\n",
      "                  $951.46\n",
      "                 </span>, <span class=\"a-offscreen\">\n",
      "                   $1,447.54\n",
      "                  </span>, <span class=\"a-offscreen\">\n",
      "                  $2,399.00\n",
      "                 </span>, <span class=\"a-offscreen\">\n",
      "                  $795.00\n",
      "                 </span>, <span class=\"a-offscreen\">\n",
      "                   $1,604.00\n",
      "                  </span>, <span aria-live=\"polite\" class=\"a-carousel-accessibility-page-info a-offscreen\">\n",
      "                 Page 1 of 1\n",
      "                </span>, <span class=\"a-offscreen\">\n",
      "              $951.46\n",
      "             </span>, <span class=\"a-offscreen\">\n",
      "              $869.00\n",
      "             </span>, <span class=\"a-offscreen\">\n",
      "              $799.99\n",
      "             </span>, <span aria-live=\"polite\" class=\"a-carousel-accessibility-page-info a-offscreen\">\n",
      "                    Page 1 of 1\n",
      "                   </span>, <span aria-live=\"polite\" class=\"a-carousel-accessibility-page-info a-offscreen\">\n",
      "                  Page 1 of 1\n",
      "                 </span>]\n"
     ]
    }
   ],
   "source": [
    "#<span class=\"a-offscreen\">$951.48</span>\n",
    "price = soup2.find_all(\"span\", {\"class\": \"a-offscreen\"})\n",
    "\n",
    "print(price)"
   ]
  },
  {
   "cell_type": "code",
   "execution_count": null,
   "id": "0dde381a",
   "metadata": {},
   "outputs": [],
   "source": []
  }
 ],
 "metadata": {
  "kernelspec": {
   "display_name": "Python 3 (ipykernel)",
   "language": "python",
   "name": "python3"
  },
  "language_info": {
   "codemirror_mode": {
    "name": "ipython",
    "version": 3
   },
   "file_extension": ".py",
   "mimetype": "text/x-python",
   "name": "python",
   "nbconvert_exporter": "python",
   "pygments_lexer": "ipython3",
   "version": "3.9.13"
  }
 },
 "nbformat": 4,
 "nbformat_minor": 5
}
